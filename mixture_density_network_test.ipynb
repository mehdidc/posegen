{
 "cells": [
  {
   "cell_type": "code",
   "execution_count": 44,
   "metadata": {},
   "outputs": [],
   "source": [
    "%matplotlib inline\n",
    "import matplotlib.pyplot as plt\n",
    "import numpy as np\n",
    "import torch\n",
    "from sklearn.datasets import make_blobs\n",
    "import torch.nn as nn\n",
    "from torch.optim import Adam, SGD\n",
    "from cli import mdn_loss_function"
   ]
  },
  {
   "cell_type": "code",
   "execution_count": 97,
   "metadata": {},
   "outputs": [],
   "source": [
    "T, _ = make_blobs()\n",
    "T -= T.min()\n",
    "T /= T.max()"
   ]
  },
  {
   "cell_type": "code",
   "execution_count": 98,
   "metadata": {},
   "outputs": [
    {
     "data": {
      "text/plain": [
       "<matplotlib.collections.PathCollection at 0x7f44dc12d5f8>"
      ]
     },
     "execution_count": 98,
     "metadata": {},
     "output_type": "execute_result"
    },
    {
     "data": {
      "image/png": "[encoded data removed]",
      "text/plain": [
       "<Figure size 432x288 with 1 Axes>"
      ]
     },
     "metadata": {
      "needs_background": "light"
     },
     "output_type": "display_data"
    }
   ],
   "source": [
    "plt.scatter(T[:, 0], T[:, 1])"
   ]
  },
  {
   "cell_type": "code",
   "execution_count": 60,
   "metadata": {},
   "outputs": [
    {
     "data": {
      "text/plain": [
       "torch.Size([100, 2])"
      ]
     },
     "execution_count": 60,
     "metadata": {},
     "output_type": "execute_result"
    }
   ],
   "source": [
    "T.shape"
   ]
  },
  {
   "cell_type": "code",
   "execution_count": null,
   "metadata": {},
   "outputs": [],
   "source": []
  },
  {
   "cell_type": "code",
   "execution_count": 99,
   "metadata": {},
   "outputs": [],
   "source": [
    "T = torch.from_numpy(T)\n",
    "T = T.float()"
   ]
  },
  {
   "cell_type": "code",
   "execution_count": 184,
   "metadata": {},
   "outputs": [],
   "source": [
    "from torch.distributions import Normal\n",
    "def mdn_loss_function(output, target, nb_components=1, nb_outputs=17*3):\n",
    "    B = output.size(0)\n",
    "    T = output.size(1)\n",
    "    M = nb_components\n",
    "    F = nb_outputs\n",
    "    EPSILON = 1e-7\n",
    "    o = output\n",
    "    t = target\n",
    "    o = o.view(B, T, M, F * 2 + 1)\n",
    "    out_mu = o[:, :, :, 0:F]\n",
    "\n",
    "    out_sigma = o[:, :, :, F:2*F]\n",
    "    out_sigma = torch.exp(out_sigma)\n",
    "\n",
    "    out_pi = o[:, :, :, 2*F:2*F+1]\n",
    "    out_pi = nn.Softmax(dim=2)(out_pi)\n",
    "\n",
    "    result = Normal(loc=out_mu, scale=out_sigma)\n",
    "    target = target.view(B, T, 1, -1)\n",
    "    result = torch.exp(result.log_prob(target))\n",
    "    result = torch.sum(result * out_pi, dim=2)\n",
    "    result = -torch.log(EPSILON + result)\n",
    "    return result"
   ]
  },
  {
   "cell_type": "code",
   "execution_count": 257,
   "metadata": {},
   "outputs": [
    {
     "name": "stdout",
     "output_type": "stream",
     "text": [
      "Linear(in_features=15, out_features=15, bias=True)\n",
      "Linear(in_features=15, out_features=15, bias=True)\n",
      "Linear(in_features=15, out_features=15, bias=True)\n",
      "Linear(in_features=15, out_features=15, bias=True)\n",
      "Linear(in_features=15, out_features=15, bias=True)\n"
     ]
    }
   ],
   "source": [
    "nb_components = 3\n",
    "F = nb_components * (2 * 2 + 1)\n",
    "model = nn.Sequential(\n",
    "    nn.Linear(F, F),\n",
    "    nn.SELU(),\n",
    "    nn.Linear(F, F),\n",
    "    nn.SELU(),\n",
    "    nn.Linear(F, F),\n",
    "    nn.SELU(),\n",
    "    nn.Linear(F, F),\n",
    "    nn.SELU(),\n",
    "    nn.Linear(F, F)\n",
    ")\n",
    "def weights_init(layer):\n",
    "    if hasattr(layer, \"weight\"):\n",
    "        print(layer)\n",
    "        nn.init.xavier_uniform_(layer.weight)\n",
    "model.apply(weights_init)\n",
    "opt = Adam(model.parameters(), lr=1e-3)"
   ]
  },
  {
   "cell_type": "code",
   "execution_count": 267,
   "metadata": {},
   "outputs": [
    {
     "name": "stdout",
     "output_type": "stream",
     "text": [
      "115.20256042480469\n",
      "115.01416015625\n",
      "115.16619110107422\n",
      "115.21222686767578\n",
      "115.0818862915039\n",
      "115.20828247070312\n",
      "115.18043518066406\n",
      "115.19271087646484\n",
      "115.11602783203125\n",
      "115.21247100830078\n"
     ]
    }
   ],
   "source": [
    "n_iter = 0\n",
    "bs = len(T)\n",
    "for i in range(1000):\n",
    "    for i in range(0, len(T), bs):\n",
    "        t = T[i:i+bs]\n",
    "        X = torch.zeros(len(t), F)\n",
    "        h = model(X)\n",
    "        o = h.view(h.size(0), 1, -1)\n",
    "        t = t.view(t.size(0), 1, -1)\n",
    "        opt.zero_grad()\n",
    "        loss = mdn_loss_function(o, t, nb_components=nb_components, nb_outputs=2).sum()\n",
    "        loss.backward()\n",
    "        opt.step()\n",
    "        if n_iter % 100 == 0:\n",
    "            print(-loss.item())\n",
    "        n_iter += 1 "
   ]
  },
  {
   "cell_type": "code",
   "execution_count": 268,
   "metadata": {},
   "outputs": [],
   "source": [
    "X = torch.zeros(len(T)*10, F)\n",
    "O = model(X)\n",
    "O = O.view(O.size(0), nb_components, -1)\n",
    "mu = O[:, :, 0:2]\n",
    "sig = O[:, :, 2:4]\n",
    "sig = torch.exp(sig)\n",
    "pi = O[:, :, 4:5]\n",
    "pi = nn.Softmax(dim=1)(pi)\n",
    "pi = pi.view(pi.size(0), pi.size(1))\n",
    "pi_sample = torch.multinomial(pi, 1)\n",
    "pi[:]=0\n",
    "pi.scatter_(1, pi_sample, 1)\n",
    "pi = pi.view(pi.size(0), pi.size(1), 1)\n",
    "o = (torch.normal(mu, sig) * pi).sum(dim=1)\n",
    "o = o.detach().cpu().numpy()"
   ]
  },
  {
   "cell_type": "code",
   "execution_count": 269,
   "metadata": {},
   "outputs": [
    {
     "name": "stdout",
     "output_type": "stream",
     "text": [
      "(1000, 2)\n"
     ]
    },
    {
     "data": {
      "image/png": "[encoded data removed]",
      "text/plain": [
       "<Figure size 432x288 with 1 Axes>"
      ]
     },
     "metadata": {
      "needs_background": "light"
     },
     "output_type": "display_data"
    }
   ],
   "source": [
    "print(o.shape)\n",
    "plt.scatter(o[:, 0], o[:, 1])\n",
    "plt.scatter(T[:, 0], T[:, 1], color=\"red\")\n",
    "plt.show()"
   ]
  }
 ],
 "metadata": {
  "kernelspec": {
   "display_name": "Python 3",
   "language": "python",
   "name": "python3"
  },
  "language_info": {
   "codemirror_mode": {
    "name": "ipython",
    "version": 3
   },
   "file_extension": ".py",
   "mimetype": "text/x-python",
   "name": "python",
   "nbconvert_exporter": "python",
   "pygments_lexer": "ipython3",
   "version": "3.7.1"
  }
 },
 "nbformat": 4,
 "nbformat_minor": 2
}
